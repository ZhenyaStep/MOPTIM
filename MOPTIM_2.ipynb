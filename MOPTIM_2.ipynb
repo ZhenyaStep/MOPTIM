{
 "cells": [
  {
   "cell_type": "code",
   "execution_count": 376,
   "metadata": {},
   "outputs": [],
   "source": [
    "import pandas as pd\n",
    "import numpy as np"
   ]
  },
  {
   "cell_type": "markdown",
   "metadata": {},
   "source": [
    "## part 1"
   ]
  },
  {
   "cell_type": "code",
   "execution_count": 377,
   "metadata": {},
   "outputs": [],
   "source": [
    "def func(x):\n",
    "    return x**2 - 5*x + 9"
   ]
  },
  {
   "cell_type": "code",
   "execution_count": 378,
   "metadata": {},
   "outputs": [],
   "source": [
    "class Solver_1:\n",
    "\n",
    "    def __init__(self, func):\n",
    "        self.func = func\n",
    "\n",
    "    def passiveSearch(self, X_range, N, eps):\n",
    "        func_values = []\n",
    "        X_values = []\n",
    "        for i in range(1, int(N / 2) + 1):\n",
    "            x1 = X_range[0] + ((X_range[1] - X_range[0])\\\n",
    "                               / (int(N/2) + 1))*i - eps/2\n",
    "        \n",
    "            x2 = X_range[0] + ((X_range[1] - X_range[0])\\\n",
    "                               / (N/2 + 1))*i + eps/2\n",
    "            X_values.append(x1)\n",
    "            X_values.append(x2)\n",
    "            func_values.append(self.func(x1))\n",
    "            func_values.append(self.func(x2))\n",
    "            print(x1, x2)\n",
    "        answer = tuple([min(func_values), \\\n",
    "                        func_values.index(min(func_values)),\\\n",
    "                       X_values[func_values.index(min(func_values))]])\n",
    "        return answer\n",
    "\n",
    "    def dihotomySearch(self, X_range, N, eps):\n",
    "        values_range = list(X_range)\n",
    "        func1_values = []\n",
    "        func2_values = []\n",
    "        x1_values = []\n",
    "        x2_values = []\n",
    "        a_values = []\n",
    "        b_values = []\n",
    "        for i in range(1, int(N/2) + 1):\n",
    "            x1 = (values_range[0] + values_range[1]) / 2 - eps/2\n",
    "            x2 = (values_range[0] + values_range[1]) / 2 + eps/2\n",
    "            f1 = self.func(x1)\n",
    "            f2 = self.func(x2)\n",
    "            if(f1 <= f2):\n",
    "                values_range[1] = x2\n",
    "            else:\n",
    "                values_range[0] = x1\n",
    "            x1_values.append(x1)\n",
    "            x2_values.append(x2)\n",
    "            func1_values.append(f1)\n",
    "            func2_values.append(f2)\n",
    "            print(values_range[0], values_range[1])\n",
    "        answer = tuple([(values_range[0] + values_range[1])/2,\\\n",
    "                        self.func((values_range[0] + \\\n",
    "                                   values_range[1])/2)])\n",
    "        #answer = tuple([x1_values[len(x1_values)-1], \\\n",
    "        #               self.func(x1_values[len(x1_values)-1])])\n",
    "        return answer\n",
    "\n",
    "\n",
    "    def getFibonachyNumbers(self, N):\n",
    "        numbers = [1,1]\n",
    "        for i in range(2, N+1):\n",
    "            numbers.append(numbers[i-2] + numbers[i-1])\n",
    "        return numbers\n",
    "\n",
    "    def fibonachySearch(self, X_range, N, eps):\n",
    "        values_range = list(X_range)\n",
    "        x1_values = []\n",
    "        x2_values = []\n",
    "        func1_values = []\n",
    "        func2_values = []\n",
    "        F_numbers = self.getFibonachyNumbers(N+1)\n",
    "       \n",
    "        for j in range(1, N):\n",
    "            x1 = values_range[0] + (F_numbers[N-j-1] / \\\n",
    "                 F_numbers[N-j+1]) * (values_range[1] - values_range[0]) - \\\n",
    "                 ((-1)**(N-j+1) / F_numbers[N-j+1])*eps\n",
    "            x2 = values_range[0] + (F_numbers[N-j] / \\\n",
    "                 F_numbers[N-j+1]) * (values_range[1] - values_range[0]) + \\\n",
    "                 ((-1)**(N-j+1) / F_numbers[N-j+1])*eps\n",
    "            \n",
    "            f1 = self.func(x1)\n",
    "            f2 = self.func(x2)\n",
    "\n",
    "\n",
    "            if(f1 <= f2):\n",
    "                values_range[1] = x2\n",
    "\n",
    "            else:\n",
    "                values_range[0] = x1\n",
    "\n",
    "            x1_values.append(x1)\n",
    "            x2_values.append(x2)\n",
    "            func1_values.append(f1)\n",
    "            func2_values.append(f2)\n",
    "            print(values_range[0], values_range[1])\n",
    "        answer = tuple([(values_range[0] + values_range[1])/2,\\\n",
    "                        self.func((values_range[0] + \\\n",
    "                                   values_range[1])/2)])\n",
    "        #answer = tuple([x1_values[len(x1_values)-1], \\\n",
    "        #               self.func(x1_values[len(x1_values)-1])])\n",
    "        return answer\n",
    "\n",
    "  \n",
    "\n",
    "    def goldenRatioSearch(self, X_range, N, eps):           \n",
    "        values_range = list(X_range)\n",
    "        x1_values = []\n",
    "        x2_values = []\n",
    "        func1_values = []\n",
    "        func2_values = []\n",
    "        F1, F2 = 0.382, 0.618\n",
    "        for j in range(1, N-1):\n",
    "            x1 = values_range[0] + \\\n",
    "                 F1*(values_range[1] - values_range[0])\n",
    "            x2 = values_range[0] + \\\n",
    "                 F2*(values_range[1] - values_range[0])\n",
    "            \n",
    "            f1 = self.func(x1)\n",
    "            f2 = self.func(x2)\n",
    "\n",
    "\n",
    "            if(f1 <= f2):\n",
    "                values_range[1] = x2\n",
    "\n",
    "            else:\n",
    "                values_range[0] = x1\n",
    "\n",
    "            x1_values.append(x1)\n",
    "            x2_values.append(x2)\n",
    "            func1_values.append(f1)\n",
    "            func2_values.append(f2)\n",
    "            print(values_range[0], values_range[1])\n",
    "        answer = tuple([(values_range[0] + values_range[1])/2,\\\n",
    "                        self.func((values_range[0] + \\\n",
    "                                   values_range[1])/2)])\n",
    "        #answer = tuple([x1_values[len(x1_values)-1], \\\n",
    "        #               self.func(x1_values[len(x1_values)-1])])\n",
    "\n",
    "\n",
    "        return answer"
   ]
  },
  {
   "cell_type": "code",
   "execution_count": 379,
   "metadata": {},
   "outputs": [],
   "source": [
    "solver = Solver_1(func)"
   ]
  },
  {
   "cell_type": "markdown",
   "metadata": {},
   "source": [
    "#### метод пассивного поиска  отрезок=[0,8]\n",
    "1)  eps = 0.1   N = 16\n",
    "\n",
    "2) N = 17"
   ]
  },
  {
   "cell_type": "code",
   "execution_count": 380,
   "metadata": {},
   "outputs": [
    {
     "name": "stdout",
     "output_type": "stream",
     "text": [
      "0.8388888888888888 0.9388888888888889\n",
      "1.7277777777777776 1.8277777777777777\n",
      "2.6166666666666667 2.7166666666666663\n",
      "3.5055555555555555 3.605555555555555\n",
      "4.394444444444445 4.4944444444444445\n",
      "5.283333333333333 5.383333333333333\n",
      "6.172222222222222 6.272222222222221\n",
      "7.061111111111111 7.1611111111111105\n"
     ]
    },
    {
     "data": {
      "text/plain": [
       "(2.7636111111111106, 4, 2.6166666666666667)"
      ]
     },
     "execution_count": 380,
     "metadata": {},
     "output_type": "execute_result"
    }
   ],
   "source": [
    "f_value, index, x = solver.passiveSearch(X_range=tuple([0,8]), N=16, eps=0.1)\n",
    "f_value, index, x"
   ]
  },
  {
   "cell_type": "code",
   "execution_count": 381,
   "metadata": {},
   "outputs": [
    {
     "name": "stdout",
     "output_type": "stream",
     "text": [
      "0.8888883888888889 0.8888893888888888\n",
      "1.7777772777777776 1.7777782777777777\n",
      "2.6666661666666664 2.6666671666666666\n",
      "3.5555550555555553 3.5555560555555554\n",
      "4.444443944444445 4.444444944444444\n",
      "5.333332833333333 5.333333833333333\n",
      "6.222221722222222 6.222222722222221\n",
      "7.111110611111111 7.11111161111111\n"
     ]
    },
    {
     "data": {
      "text/plain": [
       "(2.777777611111362, 4, 2.6666661666666664)"
      ]
     },
     "execution_count": 381,
     "metadata": {},
     "output_type": "execute_result"
    }
   ],
   "source": [
    "f_value, index, x = solver.passiveSearch(X_range=tuple([0,8]), N=16, eps=0.000001)\n",
    "f_value, index, x"
   ]
  },
  {
   "cell_type": "markdown",
   "metadata": {},
   "source": [
    "#### метод дихотомии  N = 16    eps = 0.1    отрезок=[0,8]"
   ]
  },
  {
   "cell_type": "code",
   "execution_count": 382,
   "metadata": {},
   "outputs": [
    {
     "name": "stdout",
     "output_type": "stream",
     "text": [
      "0 4.005\n",
      "1.9975 4.005\n",
      "1.9975 3.0062499999999996\n",
      "1.9975 2.506875\n",
      "2.2471875 2.506875\n",
      "2.37203125 2.506875\n",
      "2.434453125 2.506875\n",
      "2.4656640625 2.506875\n"
     ]
    },
    {
     "data": {
      "text/plain": [
       "(2.48626953125, 2.750188525772094)"
      ]
     },
     "execution_count": 382,
     "metadata": {},
     "output_type": "execute_result"
    }
   ],
   "source": [
    "min_value, f_value = solver.dihotomySearch(X_range=tuple([0,8]), N=16, eps=0.01)\n",
    "min_value, f_value"
   ]
  },
  {
   "cell_type": "markdown",
   "metadata": {},
   "source": [
    "#### метод фибоначчи N = 16    eps = 0.1    отрезок=[0,8]"
   ]
  },
  {
   "cell_type": "code",
   "execution_count": 383,
   "metadata": {},
   "outputs": [
    {
     "name": "stdout",
     "output_type": "stream",
     "text": [
      "0 4.944270507827175\n",
      "1.8885410156543516 4.944270507827175\n",
      "1.8885410156543516 3.7770820313087032\n",
      "1.8885410156543516 3.0557294921728237\n",
      "2.334376953036944 3.0557294921728237\n",
      "2.334376953036944 2.780212890419536\n",
      "2.334376953036944 2.609893554790231\n",
      "2.439574219160926 2.609893554790231\n",
      "2.439574219160926 2.5447714852849086\n",
      "2.4796494157795865 2.5447714852849086\n",
      "2.4796494157795865 2.519724612398246\n",
      "2.494677739511584 2.519724612398246\n",
      "2.494677739511584 2.509706063243581\n",
      "2.494677739511584 2.5046962886662487\n",
      "2.4996865140889164 2.5046962886662487\n"
     ]
    },
    {
     "data": {
      "text/plain": [
       "(2.5021914013775826, 2.7500048022399968)"
      ]
     },
     "execution_count": 383,
     "metadata": {},
     "output_type": "execute_result"
    }
   ],
   "source": [
    "min_value, f_value = solver.fibonachySearch(X_range=tuple([0,8]), N=16, eps=0.000001)\n",
    "min_value, f_value"
   ]
  },
  {
   "cell_type": "markdown",
   "metadata": {},
   "source": [
    "#### метод золотого сечения  N = 16    eps = 0.1    отрезок=[0,8]"
   ]
  },
  {
   "cell_type": "code",
   "execution_count": 384,
   "metadata": {},
   "outputs": [
    {
     "name": "stdout",
     "output_type": "stream",
     "text": [
      "0 4.944\n",
      "1.888608 4.944\n",
      "1.888608 3.776840256\n",
      "1.888608 3.055535534208\n",
      "2.334374318067456 3.055535534208\n",
      "2.334374318067456 2.780051949642312\n",
      "2.334374318067456 2.609803094380717\n",
      "2.4395881106191215 2.609803094380717\n",
      "2.4395881106191215 2.5447809705837874\n",
      "2.479771783125624 2.5447809705837874\n",
      "2.479771783125624 2.5199474609747687\n",
      "2.495118892063997 2.5199474609747687\n",
      "2.495118892063997 2.5104629476508538\n",
      "2.495118892063997 2.5046015184166746\n"
     ]
    },
    {
     "data": {
      "text/plain": [
       "(2.499860205240336, 2.7500000195425756)"
      ]
     },
     "execution_count": 384,
     "metadata": {},
     "output_type": "execute_result"
    }
   ],
   "source": [
    "min_value, f_value = solver.goldenRatioSearch(X_range=tuple([0,8]), N=16, eps=0.000001)\n",
    "min_value, f_value"
   ]
  },
  {
   "cell_type": "markdown",
   "metadata": {},
   "source": [
    "## Part 2"
   ]
  },
  {
   "cell_type": "code",
   "execution_count": 385,
   "metadata": {},
   "outputs": [],
   "source": [
    "class solver:\n",
    "    \n",
    "    def __init__(self, Table, F):\n",
    "        self.F = F\n",
    "        return\n",
    "    \n",
    "    def readTable(self, path):\n",
    "        self.Table = pd.read_csv(path)\n",
    "        return self.Table\n",
    "    \n",
    "    def Yilson(self):\n",
    "        self.Table[\"Q\"] = (2.*self.Table[\"K\"]*self.Table[\"V\"]\\\n",
    "                           /self.Table[\"S\"])\n",
    "        \n",
    "        for i in range(len(self.Table[\"Q\"])):\n",
    "            self.Table[\"Q\"][i] = self.Table[\"Q\"][i]**.5\n",
    "        self.Table[\"K_Q_V\"] = self.Table[\"K\"]*self.Table[\"V\"]\\\n",
    "                            / self.Table[\"Q\"]\n",
    "        return self.Table\n",
    "        \n",
    "    def getSummaryLost(self):\n",
    "        self.L = sum(self.Table[\"K\"]*self.Table[\"V\"] / self.Table[\"Q\"] \\\n",
    "                    +.5*self.Table[\"S\"]*self.Table[\"Q\"])\n",
    "        return self.L\n",
    "    \n",
    "    def getAvailablePlace(self, h):\n",
    "        return h*sum(self.Table[\"f\"]*self.Table[\"Q\"])\n",
    "    \n",
    "    \n",
    "    def lim_func(self, h, F, Q, f):\n",
    "        return (bool)(sum(h*F*Q) <= f)\n",
    "        \n",
    "    def cost_func(self, q, index):\n",
    "        #print(self.Table[\"K\"][index])\n",
    "        #print(self.Table[\"K\"][index]/q)\n",
    "        #print(self.Table[\"S\"][index]*q*0.5)\n",
    "        #print(sum(self.Table[\"K\"][index]*self.Table[\"V\"\"][index]/q) + \n",
    "        #           sum(0.5*q*self.Table[\"S\"][index]))\n",
    "        return (self.Table[\"K\"][index]*self.Table[\"V\"][index]/q + \n",
    "                   0.5*q*self.Table[\"S\"][index])\n",
    "    \n",
    "    def update_X(self, Q, lambd):\n",
    "        Q_new = list(range(len(Q)))\n",
    "        for i in range(len(Q_new)):\n",
    "            Q_new[i] = np.sum(Q[i] + lambd[i])\n",
    "        #print(Q,Q_new, lambd)\n",
    "\n",
    "        return Q_new\n",
    "    \n",
    "    \n",
    "    \n",
    "    def get_lambda(self, delta, Q):\n",
    "        lambd = list(range(len(delta)))\n",
    "        for i in range(len(delta)):\n",
    "            if(self.cost_func(Q[i] + delta[i], i) < \\\n",
    "               self.cost_func(Q[i], i)):\n",
    "                lambd[i] = delta[i]\n",
    "                continue\n",
    "            if((self.cost_func(Q[i] - delta[i], i) \\\n",
    "                < self.cost_func(Q[i], i)) and\\\n",
    "               (self.cost_func(Q[i], i) < \\\n",
    "                self.cost_func(Q[i] + delta[i], i))):\n",
    "                lambd[i] = -delta[i]\n",
    "                continue\n",
    "            lambd[i] = 0\n",
    "        return lambd\n",
    "            \n",
    "    \n",
    "    def f_border(self, Q):\n",
    "        sum = 0\n",
    "        for i in range(len(Q)):\n",
    "            sum += self.Table[\"f\"][i]*Q[i]\n",
    "        return sum\n",
    "    \n",
    "    def hukDjivs(self, delta, eps, alpha, N, F):\n",
    "        Q = np.ones(shape=(self.Table.shape[0]))\n",
    "        Q_new = Q\n",
    "        while (np.array_equal(Q_new, Q)):\n",
    "                delta = delta / alpha\n",
    "                Q_new = self.update_X(Q, self.get_lambda(delta, Q))\n",
    "        for _ in range(N):\n",
    "            Q_new = self.update_X(Q, self.get_lambda(delta, Q))\n",
    "            if(self.f_border(Q_new) >= F):\n",
    "                delta[np.random.randint(0, len(delta)-1)] *= 1 \n",
    "                continue\n",
    "            if (np.array_equal(Q_new, Q)):\n",
    "                delta = delta / alpha  \n",
    "            if(np.linalg.norm(np.subtract(Q_new, Q)) <= eps):\n",
    "                print(\"f\")\n",
    "                return Q_new\n",
    "                #Q = np.sum([Q, alpha*(np.subtract(Q_new, Q))], axis=0)\n",
    "            Q = Q_new\n",
    "        return Q"
   ]
  },
  {
   "cell_type": "code",
   "execution_count": 386,
   "metadata": {},
   "outputs": [],
   "source": [
    "Solver = solver(None, 1000)"
   ]
  },
  {
   "cell_type": "markdown",
   "metadata": {},
   "source": [
    "###  Оптимизация без ограничений на складские площади"
   ]
  },
  {
   "cell_type": "code",
   "execution_count": 387,
   "metadata": {},
   "outputs": [
    {
     "data": {
      "text/html": [
       "<div>\n",
       "<style scoped>\n",
       "    .dataframe tbody tr th:only-of-type {\n",
       "        vertical-align: middle;\n",
       "    }\n",
       "\n",
       "    .dataframe tbody tr th {\n",
       "        vertical-align: top;\n",
       "    }\n",
       "\n",
       "    .dataframe thead th {\n",
       "        text-align: right;\n",
       "    }\n",
       "</style>\n",
       "<table border=\"1\" class=\"dataframe\">\n",
       "  <thead>\n",
       "    <tr style=\"text-align: right;\">\n",
       "      <th></th>\n",
       "      <th>V</th>\n",
       "      <th>K</th>\n",
       "      <th>S</th>\n",
       "      <th>f</th>\n",
       "    </tr>\n",
       "  </thead>\n",
       "  <tbody>\n",
       "    <tr>\n",
       "      <th>0</th>\n",
       "      <td>500</td>\n",
       "      <td>20</td>\n",
       "      <td>5</td>\n",
       "      <td>10</td>\n",
       "    </tr>\n",
       "    <tr>\n",
       "      <th>1</th>\n",
       "      <td>100</td>\n",
       "      <td>10</td>\n",
       "      <td>10</td>\n",
       "      <td>20</td>\n",
       "    </tr>\n",
       "    <tr>\n",
       "      <th>2</th>\n",
       "      <td>200</td>\n",
       "      <td>5</td>\n",
       "      <td>4</td>\n",
       "      <td>5</td>\n",
       "    </tr>\n",
       "    <tr>\n",
       "      <th>3</th>\n",
       "      <td>150</td>\n",
       "      <td>3</td>\n",
       "      <td>2</td>\n",
       "      <td>2</td>\n",
       "    </tr>\n",
       "    <tr>\n",
       "      <th>4</th>\n",
       "      <td>400</td>\n",
       "      <td>7</td>\n",
       "      <td>20</td>\n",
       "      <td>8</td>\n",
       "    </tr>\n",
       "  </tbody>\n",
       "</table>\n",
       "</div>"
      ],
      "text/plain": [
       "     V   K   S   f\n",
       "0  500  20   5  10\n",
       "1  100  10  10  20\n",
       "2  200   5   4   5\n",
       "3  150   3   2   2\n",
       "4  400   7  20   8"
      ]
     },
     "execution_count": 387,
     "metadata": {},
     "output_type": "execute_result"
    }
   ],
   "source": [
    "Solver.readTable(\"table.csv\")"
   ]
  },
  {
   "cell_type": "code",
   "execution_count": 388,
   "metadata": {},
   "outputs": [
    {
     "data": {
      "text/plain": [
       "(5, 4)"
      ]
     },
     "execution_count": 388,
     "metadata": {},
     "output_type": "execute_result"
    }
   ],
   "source": [
    "Solver.Table.shape"
   ]
  },
  {
   "cell_type": "code",
   "execution_count": 389,
   "metadata": {},
   "outputs": [
    {
     "name": "stderr",
     "output_type": "stream",
     "text": [
      "D:\\programs\\anaconda\\lib\\site-packages\\ipykernel_launcher.py:15: SettingWithCopyWarning: \n",
      "A value is trying to be set on a copy of a slice from a DataFrame\n",
      "\n",
      "See the caveats in the documentation: http://pandas.pydata.org/pandas-docs/stable/indexing.html#indexing-view-versus-copy\n",
      "  from ipykernel import kernelapp as app\n"
     ]
    },
    {
     "data": {
      "text/html": [
       "<div>\n",
       "<style scoped>\n",
       "    .dataframe tbody tr th:only-of-type {\n",
       "        vertical-align: middle;\n",
       "    }\n",
       "\n",
       "    .dataframe tbody tr th {\n",
       "        vertical-align: top;\n",
       "    }\n",
       "\n",
       "    .dataframe thead th {\n",
       "        text-align: right;\n",
       "    }\n",
       "</style>\n",
       "<table border=\"1\" class=\"dataframe\">\n",
       "  <thead>\n",
       "    <tr style=\"text-align: right;\">\n",
       "      <th></th>\n",
       "      <th>V</th>\n",
       "      <th>K</th>\n",
       "      <th>S</th>\n",
       "      <th>f</th>\n",
       "      <th>Q</th>\n",
       "      <th>K_Q_V</th>\n",
       "    </tr>\n",
       "  </thead>\n",
       "  <tbody>\n",
       "    <tr>\n",
       "      <th>0</th>\n",
       "      <td>500</td>\n",
       "      <td>20</td>\n",
       "      <td>5</td>\n",
       "      <td>10</td>\n",
       "      <td>63.245553</td>\n",
       "      <td>158.113883</td>\n",
       "    </tr>\n",
       "    <tr>\n",
       "      <th>1</th>\n",
       "      <td>100</td>\n",
       "      <td>10</td>\n",
       "      <td>10</td>\n",
       "      <td>20</td>\n",
       "      <td>14.142136</td>\n",
       "      <td>70.710678</td>\n",
       "    </tr>\n",
       "    <tr>\n",
       "      <th>2</th>\n",
       "      <td>200</td>\n",
       "      <td>5</td>\n",
       "      <td>4</td>\n",
       "      <td>5</td>\n",
       "      <td>22.360680</td>\n",
       "      <td>44.721360</td>\n",
       "    </tr>\n",
       "    <tr>\n",
       "      <th>3</th>\n",
       "      <td>150</td>\n",
       "      <td>3</td>\n",
       "      <td>2</td>\n",
       "      <td>2</td>\n",
       "      <td>21.213203</td>\n",
       "      <td>21.213203</td>\n",
       "    </tr>\n",
       "    <tr>\n",
       "      <th>4</th>\n",
       "      <td>400</td>\n",
       "      <td>7</td>\n",
       "      <td>20</td>\n",
       "      <td>8</td>\n",
       "      <td>16.733201</td>\n",
       "      <td>167.332005</td>\n",
       "    </tr>\n",
       "  </tbody>\n",
       "</table>\n",
       "</div>"
      ],
      "text/plain": [
       "     V   K   S   f          Q       K_Q_V\n",
       "0  500  20   5  10  63.245553  158.113883\n",
       "1  100  10  10  20  14.142136   70.710678\n",
       "2  200   5   4   5  22.360680   44.721360\n",
       "3  150   3   2   2  21.213203   21.213203\n",
       "4  400   7  20   8  16.733201  167.332005"
      ]
     },
     "execution_count": 389,
     "metadata": {},
     "output_type": "execute_result"
    }
   ],
   "source": [
    "Solver.Yilson()"
   ]
  },
  {
   "cell_type": "code",
   "execution_count": 390,
   "metadata": {},
   "outputs": [
    {
     "data": {
      "text/plain": [
       "924.1822588389621"
      ]
     },
     "execution_count": 390,
     "metadata": {},
     "output_type": "execute_result"
    }
   ],
   "source": [
    "L = Solver.getSummaryLost()\n",
    "L"
   ]
  },
  {
   "cell_type": "markdown",
   "metadata": {},
   "source": [
    "### Оптимизация с ограничениями на слкадские площади"
   ]
  },
  {
   "cell_type": "markdown",
   "metadata": {},
   "source": [
    "##### Так как ограничение накладывается на максимальный уровень запаса, то h=1. Проверим существенность ограничения на складские площади (f=1340 м2). Для этого сравним необходимое количество складских площадей с имеющимся"
   ]
  },
  {
   "cell_type": "markdown",
   "metadata": {},
   "source": [
    "$$c = \\sum_{i=1}^5 f_i q_i$$"
   ]
  },
  {
   "cell_type": "code",
   "execution_count": 391,
   "metadata": {},
   "outputs": [
    {
     "name": "stdout",
     "output_type": "stream",
     "text": [
      "1203.393654499929\n"
     ]
    }
   ],
   "source": [
    "c = Solver.getAvailablePlace(h=1)\n",
    "print(c)"
   ]
  },
  {
   "cell_type": "markdown",
   "metadata": {},
   "source": [
    "c > f, 4690 > 1340  ограничение существенно"
   ]
  },
  {
   "cell_type": "markdown",
   "metadata": {},
   "source": [
    "$$L = \\sum_{i=1}^n (\\frac{K_i V_i}{Q_i} + \\frac{S_i Q_1}{2})  -> min$$"
   ]
  },
  {
   "cell_type": "markdown",
   "metadata": {},
   "source": [
    "Ограничение вводится на величину складских площадей.\n",
    "$$h\\sum_{i=1}^n f_i q_i <= f$$"
   ]
  },
  {
   "cell_type": "code",
   "execution_count": 392,
   "metadata": {
    "scrolled": true
   },
   "outputs": [
    {
     "data": {
      "text/html": [
       "<div>\n",
       "<style scoped>\n",
       "    .dataframe tbody tr th:only-of-type {\n",
       "        vertical-align: middle;\n",
       "    }\n",
       "\n",
       "    .dataframe tbody tr th {\n",
       "        vertical-align: top;\n",
       "    }\n",
       "\n",
       "    .dataframe thead th {\n",
       "        text-align: right;\n",
       "    }\n",
       "</style>\n",
       "<table border=\"1\" class=\"dataframe\">\n",
       "  <thead>\n",
       "    <tr style=\"text-align: right;\">\n",
       "      <th></th>\n",
       "      <th>V</th>\n",
       "      <th>K</th>\n",
       "      <th>S</th>\n",
       "      <th>f</th>\n",
       "      <th>Q</th>\n",
       "      <th>K_Q_V</th>\n",
       "    </tr>\n",
       "  </thead>\n",
       "  <tbody>\n",
       "    <tr>\n",
       "      <th>0</th>\n",
       "      <td>500</td>\n",
       "      <td>20</td>\n",
       "      <td>5</td>\n",
       "      <td>10</td>\n",
       "      <td>63.245553</td>\n",
       "      <td>158.113883</td>\n",
       "    </tr>\n",
       "    <tr>\n",
       "      <th>1</th>\n",
       "      <td>100</td>\n",
       "      <td>10</td>\n",
       "      <td>10</td>\n",
       "      <td>20</td>\n",
       "      <td>14.142136</td>\n",
       "      <td>70.710678</td>\n",
       "    </tr>\n",
       "    <tr>\n",
       "      <th>2</th>\n",
       "      <td>200</td>\n",
       "      <td>5</td>\n",
       "      <td>4</td>\n",
       "      <td>5</td>\n",
       "      <td>22.360680</td>\n",
       "      <td>44.721360</td>\n",
       "    </tr>\n",
       "    <tr>\n",
       "      <th>3</th>\n",
       "      <td>150</td>\n",
       "      <td>3</td>\n",
       "      <td>2</td>\n",
       "      <td>2</td>\n",
       "      <td>21.213203</td>\n",
       "      <td>21.213203</td>\n",
       "    </tr>\n",
       "    <tr>\n",
       "      <th>4</th>\n",
       "      <td>400</td>\n",
       "      <td>7</td>\n",
       "      <td>20</td>\n",
       "      <td>8</td>\n",
       "      <td>16.733201</td>\n",
       "      <td>167.332005</td>\n",
       "    </tr>\n",
       "  </tbody>\n",
       "</table>\n",
       "</div>"
      ],
      "text/plain": [
       "     V   K   S   f          Q       K_Q_V\n",
       "0  500  20   5  10  63.245553  158.113883\n",
       "1  100  10  10  20  14.142136   70.710678\n",
       "2  200   5   4   5  22.360680   44.721360\n",
       "3  150   3   2   2  21.213203   21.213203\n",
       "4  400   7  20   8  16.733201  167.332005"
      ]
     },
     "execution_count": 392,
     "metadata": {},
     "output_type": "execute_result"
    }
   ],
   "source": [
    "Solver.Table"
   ]
  },
  {
   "cell_type": "code",
   "execution_count": 393,
   "metadata": {},
   "outputs": [],
   "source": [
    "S = Solver.hukDjivs(np.array([2,3,3,4,3]),eps=0.1,alpha=2, N=1000, F=1000)"
   ]
  },
  {
   "cell_type": "code",
   "execution_count": 394,
   "metadata": {},
   "outputs": [
    {
     "data": {
      "text/plain": [
       "[42.0, 14.5, 22.0, 21.0, 16.0]"
      ]
     },
     "execution_count": 394,
     "metadata": {},
     "output_type": "execute_result"
    }
   ],
   "source": [
    "S"
   ]
  },
  {
   "cell_type": "code",
   "execution_count": 395,
   "metadata": {},
   "outputs": [
    {
     "data": {
      "text/plain": [
       "0    10\n",
       "1    20\n",
       "2     5\n",
       "3     2\n",
       "4     8\n",
       "Name: f, dtype: int64"
      ]
     },
     "execution_count": 395,
     "metadata": {},
     "output_type": "execute_result"
    }
   ],
   "source": [
    "Solver.Table['f']"
   ]
  },
  {
   "cell_type": "code",
   "execution_count": 396,
   "metadata": {
    "scrolled": true
   },
   "outputs": [
    {
     "data": {
      "text/plain": [
       "990.0"
      ]
     },
     "execution_count": 396,
     "metadata": {},
     "output_type": "execute_result"
    }
   ],
   "source": [
    "F = Solver.f_border(S)\n",
    "F"
   ]
  },
  {
   "cell_type": "code",
   "execution_count": 397,
   "metadata": {},
   "outputs": [],
   "source": [
    "cost = 0"
   ]
  },
  {
   "cell_type": "code",
   "execution_count": 398,
   "metadata": {},
   "outputs": [],
   "source": [
    "for i in range(len(S)):\n",
    "    cost += Solver.cost_func(S[i], i)"
   ]
  },
  {
   "cell_type": "code",
   "execution_count": 399,
   "metadata": {},
   "outputs": [
    {
     "data": {
      "text/plain": [
       "951.4438722197343"
      ]
     },
     "execution_count": 399,
     "metadata": {},
     "output_type": "execute_result"
    }
   ],
   "source": [
    "cost"
   ]
  },
  {
   "cell_type": "code",
   "execution_count": null,
   "metadata": {},
   "outputs": [],
   "source": []
  },
  {
   "cell_type": "code",
   "execution_count": null,
   "metadata": {},
   "outputs": [],
   "source": []
  },
  {
   "cell_type": "code",
   "execution_count": null,
   "metadata": {},
   "outputs": [],
   "source": []
  },
  {
   "cell_type": "code",
   "execution_count": null,
   "metadata": {},
   "outputs": [],
   "source": []
  },
  {
   "cell_type": "code",
   "execution_count": null,
   "metadata": {},
   "outputs": [],
   "source": []
  },
  {
   "cell_type": "code",
   "execution_count": null,
   "metadata": {},
   "outputs": [],
   "source": []
  },
  {
   "cell_type": "code",
   "execution_count": null,
   "metadata": {},
   "outputs": [],
   "source": []
  },
  {
   "cell_type": "code",
   "execution_count": 323,
   "metadata": {},
   "outputs": [
    {
     "data": {
      "text/plain": [
       "1.4142135623730951"
      ]
     },
     "execution_count": 323,
     "metadata": {},
     "output_type": "execute_result"
    }
   ],
   "source": [
    "2**.5"
   ]
  },
  {
   "cell_type": "code",
   "execution_count": null,
   "metadata": {},
   "outputs": [],
   "source": []
  },
  {
   "cell_type": "code",
   "execution_count": 324,
   "metadata": {},
   "outputs": [
    {
     "data": {
      "text/plain": [
       "0    4000.0\n",
       "1     200.0\n",
       "2     500.0\n",
       "3     450.0\n",
       "4     280.0\n",
       "dtype: float64"
      ]
     },
     "execution_count": 324,
     "metadata": {},
     "output_type": "execute_result"
    }
   ],
   "source": [
    "(2.*Solver.Table[\"K\"]*Solver.Table[\"V\"]\\\n",
    "                           /Solver.Table[\"S\"])"
   ]
  },
  {
   "cell_type": "code",
   "execution_count": 325,
   "metadata": {},
   "outputs": [
    {
     "data": {
      "text/plain": [
       "(0    20\n",
       " 1    10\n",
       " 2     5\n",
       " 3     3\n",
       " 4     7\n",
       " Name: K, dtype: int64, 0    500\n",
       " 1    100\n",
       " 2    200\n",
       " 3    150\n",
       " 4    400\n",
       " Name: V, dtype: int64, 0     5\n",
       " 1    10\n",
       " 2     4\n",
       " 3     2\n",
       " 4    20\n",
       " Name: S, dtype: int64)"
      ]
     },
     "execution_count": 325,
     "metadata": {},
     "output_type": "execute_result"
    }
   ],
   "source": [
    "Solver.Table[\"K\"], Solver.Table[\"V\"], Solver.Table[\"S\"]"
   ]
  },
  {
   "cell_type": "code",
   "execution_count": null,
   "metadata": {},
   "outputs": [],
   "source": []
  },
  {
   "cell_type": "code",
   "execution_count": null,
   "metadata": {},
   "outputs": [],
   "source": []
  },
  {
   "cell_type": "code",
   "execution_count": null,
   "metadata": {},
   "outputs": [],
   "source": []
  },
  {
   "cell_type": "code",
   "execution_count": null,
   "metadata": {},
   "outputs": [],
   "source": []
  },
  {
   "cell_type": "code",
   "execution_count": 326,
   "metadata": {},
   "outputs": [
    {
     "data": {
      "text/plain": [
       "316.23015873015873"
      ]
     },
     "execution_count": 326,
     "metadata": {},
     "output_type": "execute_result"
    }
   ],
   "source": [
    "Solver.Table[\"K\"][0]*Solver.Table[\"V\"][0]/63 +\\\n",
    "                   0.5*63*Solver.Table[\"S\"][0]"
   ]
  },
  {
   "cell_type": "code",
   "execution_count": null,
   "metadata": {},
   "outputs": [],
   "source": []
  },
  {
   "cell_type": "code",
   "execution_count": null,
   "metadata": {},
   "outputs": [],
   "source": []
  },
  {
   "cell_type": "code",
   "execution_count": null,
   "metadata": {},
   "outputs": [],
   "source": []
  },
  {
   "cell_type": "code",
   "execution_count": null,
   "metadata": {},
   "outputs": [],
   "source": []
  },
  {
   "cell_type": "code",
   "execution_count": null,
   "metadata": {},
   "outputs": [],
   "source": []
  },
  {
   "cell_type": "code",
   "execution_count": null,
   "metadata": {},
   "outputs": [],
   "source": []
  },
  {
   "cell_type": "code",
   "execution_count": null,
   "metadata": {},
   "outputs": [],
   "source": []
  },
  {
   "cell_type": "code",
   "execution_count": null,
   "metadata": {},
   "outputs": [],
   "source": []
  },
  {
   "cell_type": "code",
   "execution_count": null,
   "metadata": {},
   "outputs": [],
   "source": []
  },
  {
   "cell_type": "code",
   "execution_count": null,
   "metadata": {},
   "outputs": [],
   "source": []
  },
  {
   "cell_type": "code",
   "execution_count": null,
   "metadata": {},
   "outputs": [],
   "source": []
  },
  {
   "cell_type": "code",
   "execution_count": null,
   "metadata": {},
   "outputs": [],
   "source": []
  },
  {
   "cell_type": "code",
   "execution_count": null,
   "metadata": {},
   "outputs": [],
   "source": []
  },
  {
   "cell_type": "code",
   "execution_count": null,
   "metadata": {},
   "outputs": [],
   "source": []
  }
 ],
 "metadata": {
  "kernelspec": {
   "display_name": "Python 3",
   "language": "python",
   "name": "python3"
  },
  "language_info": {
   "codemirror_mode": {
    "name": "ipython",
    "version": 3
   },
   "file_extension": ".py",
   "mimetype": "text/x-python",
   "name": "python",
   "nbconvert_exporter": "python",
   "pygments_lexer": "ipython3",
   "version": "3.6.4"
  }
 },
 "nbformat": 4,
 "nbformat_minor": 2
}
